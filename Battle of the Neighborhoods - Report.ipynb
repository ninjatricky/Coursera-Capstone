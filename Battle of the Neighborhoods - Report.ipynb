{
    "cells": [
        {
            "cell_type": "markdown",
            "metadata": {
                "collapsed": true
            },
            "source": "# A comparison between Manchester and London neighbourhoods for relocation."
        },
        {
            "cell_type": "markdown",
            "metadata": {},
            "source": "___"
        },
        {
            "cell_type": "markdown",
            "metadata": {},
            "source": "## Introduction"
        },
        {
            "cell_type": "markdown",
            "metadata": {},
            "source": "Manchester is a very multicultural and diverse city in the North of England.  It has many opportunities for young people and is surrounded by many different towns and villages all of which offer a range of lifestyle and personalities.  Due to the close proximity of these areas and a good travel network, it is an ideal place to maintain a work life balance while living in the comfort of a suburb and commuting into the city for work.\\\n\\\nIn the UK, many people relocate to the south east in order to live and work in London for the career opportunities and financial gains.  However, London is a very big area and travel into and across the city is vastly greater in terms of time and cost than travel in the Manchester area.  For this reason, it is important that anyone who relocates to London chooses the right area in which to live, in order to be happy in their local area and minimise the need for travel outside of their commute.\\\n\\\nFor this reason, this project will attempt to find similarities between the neighbourhoods in the Manchester area and those within London area, to provide a guide to anyone seeking to relocate.  Neighbourhoods will be clustered based on the venues within their centres and then a list of mappings between Manchester and London created.  "
        },
        {
            "cell_type": "markdown",
            "metadata": {},
            "source": "## Data"
        },
        {
            "cell_type": "markdown",
            "metadata": {},
            "source": "__Data Sources__\n* Foursquare location data will be used to retrieve the location and venue details within each neighbourhood.\n* Data for Manchester will be taken from the following Wikipedia page https://en.wikipedia.org/wiki/List_of_places_in_Greater_Manchester which contains details of the Boroughs and Neighbourhoods. \n* Data for London will be taken from the following Wikipedia page https://en.wikipedia.org/wiki/List_of_areas_of_London which contains details of the Boroughs and Neighbourhoods within London.    \n\n__Data Usage__ \\\nUsing the neighbourhood data from Wikipedia, the details for 500 venues within 2000 metres of the centre of each neighbourhood will be retrieved from Foursquare. \\\nThis data will then be aggregated for each neighbourhood and the top 10 types of venue will be used to cluster each neighbourhood.  \nThe resulting list of neighbourhoods and clusters will then be split between Manchester and London, providing a mapping between the different cities. \\\nEach cluster will be examined and allocated a descriptive name and brief overview of the characteristics of the neighbourhood. "
        },
        {
            "cell_type": "markdown",
            "metadata": {},
            "source": "## Methodology"
        },
        {
            "cell_type": "markdown",
            "metadata": {},
            "source": "TBC"
        },
        {
            "cell_type": "markdown",
            "metadata": {},
            "source": "## Results"
        },
        {
            "cell_type": "markdown",
            "metadata": {},
            "source": "TBC"
        },
        {
            "cell_type": "markdown",
            "metadata": {},
            "source": "## Discussion"
        },
        {
            "cell_type": "markdown",
            "metadata": {},
            "source": "TBC"
        },
        {
            "cell_type": "markdown",
            "metadata": {},
            "source": "## Conclusion"
        },
        {
            "cell_type": "markdown",
            "metadata": {},
            "source": "TBC"
        },
        {
            "cell_type": "code",
            "execution_count": null,
            "metadata": {},
            "outputs": [],
            "source": ""
        }
    ],
    "metadata": {
        "kernelspec": {
            "display_name": "Python 3.6",
            "language": "python",
            "name": "python3"
        },
        "language_info": {
            "codemirror_mode": {
                "name": "ipython",
                "version": 3
            },
            "file_extension": ".py",
            "mimetype": "text/x-python",
            "name": "python",
            "nbconvert_exporter": "python",
            "pygments_lexer": "ipython3",
            "version": "3.6.9"
        }
    },
    "nbformat": 4,
    "nbformat_minor": 1
}